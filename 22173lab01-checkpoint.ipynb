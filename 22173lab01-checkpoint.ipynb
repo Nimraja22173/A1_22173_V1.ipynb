{
 "cells": [
  {
   "cell_type": "markdown",
   "id": "dc9af3f4",
   "metadata": {},
   "source": [
    "Q1)"
   ]
  },
  {
   "cell_type": "code",
   "execution_count": 2,
   "id": "faa7cfea-bdd3-48f7-a7ee-86798f9b74b6",
   "metadata": {},
   "outputs": [
    {
     "name": "stdout",
     "output_type": "stream",
     "text": [
      "Number of pairs with sum equal to 10: 2\n"
     ]
    }
   ],
   "source": [
    "def count(input_list):\n",
    "    pairs = 0 #start with the sum equals to 0\n",
    "    dictinory = {}\n",
    "\n",
    "    for num in input_list:\n",
    "        complement = 10 - num\n",
    "        if complement in dictinory:\n",
    "            pairs += dictinory[complement]\n",
    "        dictinory[num] = dictinory.get(num, 0) + 1\n",
    "\n",
    "    return pairs\n",
    "#main function\n",
    "def main():\n",
    "\n",
    "    input_list = [2, 7, 4, 1, 3, 6] #The given input\n",
    "    pairs = count(input_list)\n",
    "    print(\"Number of pairs with sum equal to 10:\", pairs)\n",
    "\n",
    "# Running the main function\n",
    "if __name__ == \"__main__\":\n",
    "    main()"
   ]
  },
  {
   "cell_type": "markdown",
   "id": "7385aa18",
   "metadata": {},
   "source": [
    "Q2)"
   ]
  },
  {
   "cell_type": "code",
   "execution_count": 4,
   "id": "cd254774-eb12-4236-8919-bc418aa69158",
   "metadata": {},
   "outputs": [
    {
     "name": "stdout",
     "output_type": "stream",
     "text": [
      "Range is from ( 8 - 0 )\n",
      "Difference: 8\n"
     ]
    }
   ],
   "source": [
    "def find_range(real_numbers):\n",
    "    if len(real_numbers) < 3:\n",
    "        return \"Range determination is not possible\"\n",
    "    \n",
    "    minimum_value = min(real_numbers)\n",
    "    maximum_value = max(real_numbers)\n",
    "    range_value = maximum_value - minimum_value\n",
    "    return range_value\n",
    "#main function\n",
    "if __name__ == \"__main__\":\n",
    "    input_list = [5, 3, 8, 1, 0, 4]  # given input \n",
    "    minimum = min(input_list)\n",
    "    maximum = max(input_list)\n",
    "    range_result = find_range(input_list)\n",
    "    print(\"Range is from (\", maximum, \"-\", minimum, \")\")\n",
    "    print(\"Difference:\", range_result)\n"
   ]
  },
  {
   "cell_type": "markdown",
   "id": "66b28ca4",
   "metadata": {},
   "source": [
    "Q3)"
   ]
  },
  {
   "cell_type": "code",
   "execution_count": 6,
   "id": "8fd8344f-dfe0-4f02-8a39-1c4a28cad30a",
   "metadata": {},
   "outputs": [
    {
     "name": "stdout",
     "output_type": "stream",
     "text": [
      "Enter the number of rows in the matrix:  2\n",
      "Enter the number of columns in the matrix:  2\n",
      "Enter values for row 1 (separated by space):  1 2\n",
      "Enter values for row 2 (separated by space):  1 2\n",
      "Enter the power to raise the matrix to:  1\n"
     ]
    },
    {
     "name": "stdout",
     "output_type": "stream",
     "text": [
      "Original matrix:\n",
      "[1, 2]\n",
      "[1, 2]\n",
      "Resultant matrix after raising to power 1:\n",
      "[1, 2]\n",
      "[1, 2]\n"
     ]
    }
   ],
   "source": [
    "def matrix_power(matrix, power):\n",
    "    result = matrix\n",
    "    for _ in range(power - 1):\n",
    "        result = [[sum(a * b for a, b in zip(row, col)) for col in zip(*matrix)] for row in result]\n",
    "\n",
    "    return result\n",
    "\n",
    "def main():\n",
    "    # User input for matrix\n",
    "    matrix_rows = int(input(\"Enter the number of rows in the matrix: \"))\n",
    "    matrix_cols = int(input(\"Enter the number of columns in the matrix: \"))\n",
    "\n",
    "    matrix_a = []\n",
    "    for i in range(matrix_rows):\n",
    "        row = [int(ele) for ele in input(f\"Enter values for row {i + 1} (separated by space): \").split()]\n",
    "        matrix_a.append(row)\n",
    "\n",
    "    # User input for power\n",
    "    power_a = int(input(\"Enter the power to raise the matrix to: \"))\n",
    "\n",
    "    result_matrix_a = matrix_power(matrix_a, power_a)\n",
    "\n",
    "    # Print matrices in matrix form\n",
    "    print(\"Original matrix:\")\n",
    "    for row in matrix_a:\n",
    "        print(row)\n",
    "\n",
    "    print(f\"Resultant matrix after raising to power {power_a}:\")\n",
    "    for row in result_matrix_a:\n",
    "        print(row)\n",
    "\n",
    "if __name__ == \"__main__\":\n",
    "    main()\n"
   ]
  },
  {
   "cell_type": "markdown",
   "id": "4d5932a0",
   "metadata": {},
   "source": [
    "Q4)"
   ]
  },
  {
   "cell_type": "code",
   "execution_count": 9,
   "id": "0d8d986f-c7be-4330-b0fd-0fd2b9996fde",
   "metadata": {},
   "outputs": [
    {
     "name": "stdout",
     "output_type": "stream",
     "text": [
      "Highest occurring character is: P\n",
      "Occurrence count: 3\n"
     ]
    }
   ],
   "source": [
    "def count(input_string):\n",
    "    if not input_string:\n",
    "        return None, 0\n",
    "    input_string = input_string.upper()\n",
    "    # storing character count in the dictinory\n",
    "    char_count = {}\n",
    "    for char in input_string:\n",
    "        if char.isalpha():\n",
    "            char_count[char] = char_count.get(char, 0) + 1\n",
    "    if not char_count:\n",
    "        return None, 0\n",
    "    max_char = max(char_count, key=char_count.get)\n",
    "    max_count = char_count[max_char]\n",
    "    return max_char, max_count\n",
    "\n",
    "def main():\n",
    "    input_string = \"HIPPOPOTAMUS\"\n",
    "    highest_char, occurrence_count = count(input_string)\n",
    "#Finding the most occurence character from the  given input string and their occurence\n",
    "    if highest_char:\n",
    "        print(\"Highest occurring character is:\", highest_char)\n",
    "        print(\"Occurrence count:\", occurrence_count)\n",
    "    else:\n",
    "        print(\"No alphabetic characters found in the input string.\")\n",
    "\n",
    "if __name__ == \"__main__\":\n",
    "    main()\n"
   ]
  }
 ],
 "metadata": {
  "kernelspec": {
   "display_name": "Python 3 (ipykernel)",
   "language": "python",
   "name": "python3"
  },
  "language_info": {
   "codemirror_mode": {
    "name": "ipython",
    "version": 3
   },
   "file_extension": ".py",
   "mimetype": "text/x-python",
   "name": "python",
   "nbconvert_exporter": "python",
   "pygments_lexer": "ipython3",
   "version": "3.11.4"
  }
 },
 "nbformat": 4,
 "nbformat_minor": 5
}
